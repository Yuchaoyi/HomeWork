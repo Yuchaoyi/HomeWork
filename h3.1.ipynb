{
 "cells": [
  {
   "cell_type": "code",
   "id": "initial_id",
   "metadata": {
    "collapsed": true,
    "ExecuteTime": {
     "end_time": "2024-10-15T07:32:10.428133Z",
     "start_time": "2024-10-15T07:32:06.236134Z"
    }
   },
   "source": [
    "num=eval(input('请输入一个大于1的数，我可以判断它是否为质数：'))\n",
    "j=0\n",
    "if num<=1:\n",
    "    print('该数小于或等于1，不为质数哦！')\n",
    "else:\n",
    "    for i in range(2,num+1):\n",
    "        if num%i==0:\n",
    "            j+=1\n",
    "        if j==2:\n",
    "            print(f'{num}不是质数')\n",
    "            break\n",
    "    if j==1:\n",
    "        print(f'{num}是质数')\n",
    "        "
   ],
   "outputs": [
    {
     "name": "stdout",
     "output_type": "stream",
     "text": [
      "133不是质数\n"
     ]
    }
   ],
   "execution_count": 57
  }
 ],
 "metadata": {
  "kernelspec": {
   "display_name": "Python 3",
   "language": "python",
   "name": "python3"
  },
  "language_info": {
   "codemirror_mode": {
    "name": "ipython",
    "version": 2
   },
   "file_extension": ".py",
   "mimetype": "text/x-python",
   "name": "python",
   "nbconvert_exporter": "python",
   "pygments_lexer": "ipython2",
   "version": "2.7.6"
  }
 },
 "nbformat": 4,
 "nbformat_minor": 5
}
