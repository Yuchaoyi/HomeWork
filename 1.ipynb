{
 "cells": [
  {
   "cell_type": "code",
   "execution_count": 7,
   "metadata": {},
   "outputs": [],
   "source": [
    "s='数据科学与工程导论'"
   ]
  },
  {
   "cell_type": "markdown",
   "metadata": {},
   "source": [
    "定义一个字符串变量s，用来存储‘数据科学与工程导论’"
   ]
  },
  {
   "cell_type": "code",
   "execution_count": 8,
   "metadata": {},
   "outputs": [
    {
     "name": "stdout",
     "output_type": "stream",
     "text": [
      "★★★★★★★★★★★\n",
      "★数据科学与工程导论★\n",
      "★★★★★★★★★★★"
     ]
    }
   ],
   "source": [
    "for i in range(len(s)+2):    \n",
    "    print(chr(0x2605),end='')\n",
    "print()\n",
    "print(chr(0x2605)+s+chr(0x2605))\n",
    "for i in range(len(s)+2):    \n",
    "    print(chr(0x2605),end='')\n"
   ]
  }
 ],
 "metadata": {
  "kernelspec": {
   "display_name": "Python 3",
   "language": "python",
   "name": "python3"
  },
  "language_info": {
   "codemirror_mode": {
    "name": "ipython",
    "version": 3
   },
   "file_extension": ".py",
   "mimetype": "text/x-python",
   "name": "python",
   "nbconvert_exporter": "python",
   "pygments_lexer": "ipython3",
   "version": "3.12.0"
  }
 },
 "nbformat": 4,
 "nbformat_minor": 2
}
