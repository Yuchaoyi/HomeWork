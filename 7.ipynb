{
 "cells": [
  {
   "cell_type": "code",
   "id": "initial_id",
   "metadata": {
    "collapsed": true,
    "ExecuteTime": {
     "end_time": "2024-10-08T07:21:16.989148Z",
     "start_time": "2024-10-08T07:21:03.903620Z"
    }
   },
   "source": [
    "def second_largest(nums):\n",
    "    # 检查数组的长度\n",
    "    if len(nums) < 2:\n",
    "        return -1\n",
    "\n",
    "    # 使用集合去重并转换为列表\n",
    "    unique_nums = list(set(nums))\n",
    "\n",
    "    # 如果去重后的数组长度小于2，返回-1\n",
    "    if len(unique_nums) < 2:\n",
    "        return -1\n",
    "\n",
    "    # 排序数组并返回第二大的数\n",
    "    unique_nums.sort()\n",
    "    return unique_nums[-2]\n",
    "s=input('请输入一个数组,每个数之间以‘，‘隔开：')\n",
    "nums1=s.split(',')\n",
    "nums=[int(item) for item in nums1]\n",
    "print(nums)\n",
    "print('第二大的数为：',second_largest(nums))"
   ],
   "outputs": [
    {
     "name": "stdout",
     "output_type": "stream",
     "text": [
      "[5, 5, 5, 5, 5]\n",
      "第二大的数为： -1\n"
     ]
    }
   ],
   "execution_count": 6
  }
 ],
 "metadata": {
  "kernelspec": {
   "display_name": "Python 3",
   "language": "python",
   "name": "python3"
  },
  "language_info": {
   "codemirror_mode": {
    "name": "ipython",
    "version": 2
   },
   "file_extension": ".py",
   "mimetype": "text/x-python",
   "name": "python",
   "nbconvert_exporter": "python",
   "pygments_lexer": "ipython2",
   "version": "2.7.6"
  }
 },
 "nbformat": 4,
 "nbformat_minor": 5
}
