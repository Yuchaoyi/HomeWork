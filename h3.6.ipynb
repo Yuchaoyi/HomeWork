{
 "cells": [
  {
   "cell_type": "code",
   "id": "initial_id",
   "metadata": {
    "collapsed": true,
    "ExecuteTime": {
     "end_time": "2024-10-16T10:49:03.472855Z",
     "start_time": "2024-10-16T10:49:03.444001Z"
    }
   },
   "source": [
    "import time\n",
    "now_time=time.localtime()\n",
    "print(str(now_time.tm_year)+'年'+str(now_time.tm_mon)+'月'+str(now_time.tm_mday)+'号'+str(now_time.tm_hour)+'点'+str(now_time.tm_min)+'分'+str(now_time.tm_sec)+'秒')"
   ],
   "outputs": [
    {
     "name": "stdout",
     "output_type": "stream",
     "text": [
      "2024年10月16号18点49分3秒\n"
     ]
    }
   ],
   "execution_count": 1
  },
  {
   "metadata": {
    "ExecuteTime": {
     "end_time": "2024-10-16T10:49:03.604402Z",
     "start_time": "2024-10-16T10:49:03.596615Z"
    }
   },
   "cell_type": "code",
   "source": "",
   "id": "cd2d5919101dcdb3",
   "outputs": [],
   "execution_count": null
  }
 ],
 "metadata": {
  "kernelspec": {
   "display_name": "Python 3",
   "language": "python",
   "name": "python3"
  },
  "language_info": {
   "codemirror_mode": {
    "name": "ipython",
    "version": 2
   },
   "file_extension": ".py",
   "mimetype": "text/x-python",
   "name": "python",
   "nbconvert_exporter": "python",
   "pygments_lexer": "ipython2",
   "version": "2.7.6"
  }
 },
 "nbformat": 4,
 "nbformat_minor": 5
}
