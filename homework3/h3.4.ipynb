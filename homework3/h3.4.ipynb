{
 "cells": [
  {
   "cell_type": "code",
   "id": "initial_id",
   "metadata": {
    "collapsed": true,
    "ExecuteTime": {
     "end_time": "2024-10-16T09:17:42.904378Z",
     "start_time": "2024-10-16T09:17:30.387981Z"
    }
   },
   "source": [
    "#快速排序算法\n",
    "lst=input('请输入一组数,每个数以，间隔：')\n",
    "lst=lst.split(',')\n",
    "lst=[int(item) for item in lst]\n",
    "print(lst)"
   ],
   "outputs": [
    {
     "name": "stdout",
     "output_type": "stream",
     "text": [
      "[55, 6, 6, 8, 0, -1, 23]\n"
     ]
    }
   ],
   "execution_count": 41
  },
  {
   "metadata": {
    "ExecuteTime": {
     "end_time": "2024-10-16T09:17:43.026981Z",
     "start_time": "2024-10-16T09:17:43.021700Z"
    }
   },
   "cell_type": "code",
   "source": [
    "def kuaisufun(lst):\n",
    "    if len(lst)==1 or len(lst)==0:\n",
    "        return lst\n",
    "    left=[]\n",
    "    right=[]\n",
    "    for i in range(len(lst)-1):\n",
    "        if lst[i]<lst[len(lst)-1]:\n",
    "            left.append(lst[i])\n",
    "        else:\n",
    "            right.append(lst[i])\n",
    "    return kuaisufun(left)+[lst[-1]]+kuaisufun(right)\n",
    "print(kuaisufun(lst))"
   ],
   "id": "cf836f5417596d60",
   "outputs": [
    {
     "name": "stdout",
     "output_type": "stream",
     "text": [
      "[-1, 0, 6, 6, 8, 23, 55]\n"
     ]
    }
   ],
   "execution_count": 42
  }
 ],
 "metadata": {
  "kernelspec": {
   "display_name": "Python 3",
   "language": "python",
   "name": "python3"
  },
  "language_info": {
   "codemirror_mode": {
    "name": "ipython",
    "version": 2
   },
   "file_extension": ".py",
   "mimetype": "text/x-python",
   "name": "python",
   "nbconvert_exporter": "python",
   "pygments_lexer": "ipython2",
   "version": "2.7.6"
  }
 },
 "nbformat": 4,
 "nbformat_minor": 5
}
