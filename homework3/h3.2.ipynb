{
 "cells": [
  {
   "cell_type": "code",
   "id": "initial_id",
   "metadata": {
    "collapsed": true,
    "ExecuteTime": {
     "end_time": "2024-10-16T07:53:08.760667Z",
     "start_time": "2024-10-16T07:52:42.746390Z"
    }
   },
   "source": [
    "#插入排序算法\n",
    "lst=input('请输入一组数,每个数以，间隔：')\n",
    "lst=lst.split(',')\n",
    "lst=[int(item) for item in lst]\n",
    "print(lst)"
   ],
   "outputs": [
    {
     "name": "stdout",
     "output_type": "stream",
     "text": [
      "[1, 2, 3, 222, -89, 0, 23, 3333, 189]\n"
     ]
    }
   ],
   "execution_count": 7
  },
  {
   "metadata": {
    "ExecuteTime": {
     "end_time": "2024-10-16T07:53:08.886052Z",
     "start_time": "2024-10-16T07:53:08.881460Z"
    }
   },
   "cell_type": "code",
   "source": [
    "def charufun(lst):\n",
    "    for i in range(1,len(lst)):\n",
    "        t=lst[i]\n",
    "        j=i-1\n",
    "        while j>=0 and lst[j]>t:\n",
    "            lst[j+1]=lst[j]\n",
    "            lst[j]=t\n",
    "            j=j-1\n",
    "    return lst\n",
    "print(charufun(lst))"
   ],
   "id": "a1f2c7ae772acdc3",
   "outputs": [
    {
     "name": "stdout",
     "output_type": "stream",
     "text": [
      "[-89, 0, 1, 2, 3, 23, 189, 222, 3333]\n"
     ]
    }
   ],
   "execution_count": 8
  }
 ],
 "metadata": {
  "kernelspec": {
   "display_name": "Python 3",
   "language": "python",
   "name": "python3"
  },
  "language_info": {
   "codemirror_mode": {
    "name": "ipython",
    "version": 2
   },
   "file_extension": ".py",
   "mimetype": "text/x-python",
   "name": "python",
   "nbconvert_exporter": "python",
   "pygments_lexer": "ipython2",
   "version": "2.7.6"
  }
 },
 "nbformat": 4,
 "nbformat_minor": 5
}
