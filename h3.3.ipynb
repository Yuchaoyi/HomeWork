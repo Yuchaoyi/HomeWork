{
 "cells": [
  {
   "cell_type": "code",
   "id": "initial_id",
   "metadata": {
    "collapsed": true,
    "ExecuteTime": {
     "end_time": "2024-10-16T08:19:31.533619Z",
     "start_time": "2024-10-16T08:19:06.121881Z"
    }
   },
   "source": [
    "#选择排序算法\n",
    "lst=input('请输入一组数,每个数以，间隔：')\n",
    "lst=lst.split(',')\n",
    "lst=[int(item) for item in lst]\n",
    "print(lst)"
   ],
   "outputs": [
    {
     "name": "stdout",
     "output_type": "stream",
     "text": [
      "[123, 0, -34, 286, 2, 3, 4, 666, 1, 1, 1, 5, 90]\n"
     ]
    }
   ],
   "execution_count": 9
  },
  {
   "metadata": {
    "ExecuteTime": {
     "end_time": "2024-10-16T08:19:31.646520Z",
     "start_time": "2024-10-16T08:19:31.642005Z"
    }
   },
   "cell_type": "code",
   "source": [
    "def xuanzefun(lst):\n",
    "    for i in range(0,len(lst)-1):\n",
    "        t=0\n",
    "        minlst=lst[i]\n",
    "        for j in range(i+1,len(lst)):\n",
    "            if lst[j]<minlst:\n",
    "                t=j\n",
    "                minlst=lst[j]\n",
    "        if minlst!=lst[i]:\n",
    "            lst[t]=lst[i]\n",
    "            lst[i]=minlst\n",
    "    return lst\n",
    "print(xuanzefun(lst))\n"
   ],
   "id": "38e582c416ec37ca",
   "outputs": [
    {
     "name": "stdout",
     "output_type": "stream",
     "text": [
      "[-34, 0, 1, 1, 1, 2, 3, 4, 5, 90, 123, 286, 666]\n"
     ]
    }
   ],
   "execution_count": 10
  }
 ],
 "metadata": {
  "kernelspec": {
   "display_name": "Python 3",
   "language": "python",
   "name": "python3"
  },
  "language_info": {
   "codemirror_mode": {
    "name": "ipython",
    "version": 2
   },
   "file_extension": ".py",
   "mimetype": "text/x-python",
   "name": "python",
   "nbconvert_exporter": "python",
   "pygments_lexer": "ipython2",
   "version": "2.7.6"
  }
 },
 "nbformat": 4,
 "nbformat_minor": 5
}
