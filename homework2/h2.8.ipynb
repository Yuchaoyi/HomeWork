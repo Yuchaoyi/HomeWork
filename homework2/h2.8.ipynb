{
 "cells": [
  {
   "cell_type": "code",
   "id": "initial_id",
   "metadata": {
    "collapsed": true,
    "ExecuteTime": {
     "end_time": "2024-10-08T07:55:58.383656Z",
     "start_time": "2024-10-08T07:55:33.009161Z"
    }
   },
   "source": [
    "import re\n",
    "id=input('请输入你的身份证号：')\n",
    "def validate_id_card(id):\n",
    "    pattern=r'^[1-9]\\d{5}(19|20)\\d{2}(0[1-9]|1[0-2])(0[1-9]|[1-2]\\d|3[0-1])\\d{3}(\\d|X|x)$'\n",
    "    match=re.match(pattern,id)\n",
    "    if match:\n",
    "        print('id正确')\n",
    "    else:\n",
    "        print('id错误')\n",
    "print('您的身份证号为：',id)\n",
    "validate_id_card(id)"
   ],
   "outputs": [
    {
     "name": "stdout",
     "output_type": "stream",
     "text": [
      "您的身份证号为： 36110120981230888X\n",
      "id正确\n"
     ]
    }
   ],
   "execution_count": 5
  }
 ],
 "metadata": {
  "kernelspec": {
   "display_name": "Python 3",
   "language": "python",
   "name": "python3"
  },
  "language_info": {
   "codemirror_mode": {
    "name": "ipython",
    "version": 2
   },
   "file_extension": ".py",
   "mimetype": "text/x-python",
   "name": "python",
   "nbconvert_exporter": "python",
   "pygments_lexer": "ipython2",
   "version": "2.7.6"
  }
 },
 "nbformat": 4,
 "nbformat_minor": 5
}
