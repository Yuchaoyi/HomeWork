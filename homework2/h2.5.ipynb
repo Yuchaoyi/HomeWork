{
 "cells": [
  {
   "cell_type": "code",
   "id": "initial_id",
   "metadata": {
    "collapsed": true,
    "ExecuteTime": {
     "end_time": "2024-10-08T07:25:09.815778Z",
     "start_time": "2024-10-08T07:25:06.390054Z"
    }
   },
   "source": [
    "num=eval(input(\"请输入一个整数：\"))\n",
    "def huiwen(num):\n",
    "    judge_num=str(num)\n",
    "    if judge_num==judge_num[::-1]:\n",
    "        print(f'{num}是一个回文数')\n",
    "    else:\n",
    "        print(f'{num}不是一个回文数')\n",
    "huiwen(num)"
   ],
   "outputs": [
    {
     "name": "stdout",
     "output_type": "stream",
     "text": [
      "23432是一个回文数\n"
     ]
    }
   ],
   "execution_count": 6
  }
 ],
 "metadata": {
  "kernelspec": {
   "display_name": "Python 3",
   "language": "python",
   "name": "python3"
  },
  "language_info": {
   "codemirror_mode": {
    "name": "ipython",
    "version": 2
   },
   "file_extension": ".py",
   "mimetype": "text/x-python",
   "name": "python",
   "nbconvert_exporter": "python",
   "pygments_lexer": "ipython2",
   "version": "2.7.6"
  }
 },
 "nbformat": 4,
 "nbformat_minor": 5
}
