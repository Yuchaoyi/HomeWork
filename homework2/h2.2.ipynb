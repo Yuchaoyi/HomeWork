{
 "cells": [
  {
   "cell_type": "code",
   "id": "initial_id",
   "metadata": {
    "collapsed": true,
    "ExecuteTime": {
     "end_time": "2024-10-08T05:18:38.977806Z",
     "start_time": "2024-10-08T05:18:34.605912Z"
    }
   },
   "source": "score=eval(input(\"Enter your score: \"))",
   "outputs": [],
   "execution_count": 5
  },
  {
   "metadata": {
    "ExecuteTime": {
     "end_time": "2024-10-08T05:18:39.010689Z",
     "start_time": "2024-10-08T05:18:38.997554Z"
    }
   },
   "cell_type": "code",
   "source": [
    "if score<60:\n",
    "    print('不合格')\n",
    "elif 60<=score<=74:\n",
    "    print('合格')\n",
    "elif 74<=score<=89:\n",
    "    print('良好')\n",
    "elif 90<=score<=100:\n",
    "    print('优秀')\n",
    "else:\n",
    "    print('你输入的成绩有误！')"
   ],
   "id": "ed7958cc96c957fc",
   "outputs": [
    {
     "name": "stdout",
     "output_type": "stream",
     "text": [
      "良好\n"
     ]
    }
   ],
   "execution_count": 6
  }
 ],
 "metadata": {
  "kernelspec": {
   "display_name": "Python 3",
   "language": "python",
   "name": "python3"
  },
  "language_info": {
   "codemirror_mode": {
    "name": "ipython",
    "version": 2
   },
   "file_extension": ".py",
   "mimetype": "text/x-python",
   "name": "python",
   "nbconvert_exporter": "python",
   "pygments_lexer": "ipython2",
   "version": "2.7.6"
  }
 },
 "nbformat": 4,
 "nbformat_minor": 5
}
