{
 "cells": [
  {
   "cell_type": "code",
   "id": "initial_id",
   "metadata": {
    "collapsed": true,
    "ExecuteTime": {
     "end_time": "2024-10-08T07:26:26.307445Z",
     "start_time": "2024-10-08T07:26:22.606099Z"
    }
   },
   "source": [
    "N=eval(input('请输入你想要斐波那契数列前多少（N）项所有的值：'))\n",
    "def feibo(N):\n",
    "    lst=[]\n",
    "    def shulie(n):\n",
    "        if n==1 or n==2:\n",
    "            return n-1\n",
    "        else:\n",
    "            return shulie(n-1)+shulie(n-2)\n",
    "    for i in range(1,N+1):\n",
    "        lst.append(shulie(i))\n",
    "    print(f'数列前{N}项所有的值为：',lst)\n",
    "feibo(N)\n"
   ],
   "outputs": [
    {
     "name": "stdout",
     "output_type": "stream",
     "text": [
      "数列前8项所有的值为： [0, 1, 1, 2, 3, 5, 8, 13]\n"
     ]
    }
   ],
   "execution_count": 3
  }
 ],
 "metadata": {
  "kernelspec": {
   "display_name": "Python 3",
   "language": "python",
   "name": "python3"
  },
  "language_info": {
   "codemirror_mode": {
    "name": "ipython",
    "version": 2
   },
   "file_extension": ".py",
   "mimetype": "text/x-python",
   "name": "python",
   "nbconvert_exporter": "python",
   "pygments_lexer": "ipython2",
   "version": "2.7.6"
  }
 },
 "nbformat": 4,
 "nbformat_minor": 5
}
