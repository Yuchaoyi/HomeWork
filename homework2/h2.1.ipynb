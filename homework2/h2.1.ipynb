{
 "cells": [
  {
   "cell_type": "code",
   "id": "initial_id",
   "metadata": {
    "collapsed": true,
    "ExecuteTime": {
     "end_time": "2024-10-08T05:13:28.256504Z",
     "start_time": "2024-10-08T05:13:07.137576Z"
    }
   },
   "source": [
    "x=eval(input('请输入第一个整数：'))\n",
    "y=eval(input('请输入第二个整数：'))"
   ],
   "outputs": [],
   "execution_count": 15
  },
  {
   "metadata": {
    "ExecuteTime": {
     "end_time": "2024-10-08T05:13:28.277238Z",
     "start_time": "2024-10-08T05:13:28.261603Z"
    }
   },
   "cell_type": "code",
   "source": [
    "minnum=min(x,y)\n",
    "maxnum=max(x,y)\n",
    "for i in range(minnum,-1,-1):\n",
    "    if maxnum%i==0 and minnum%i==0:\n",
    "        break\n",
    "print(f'{x}和{y}的最大公约数是{i}')"
   ],
   "id": "fb675db09ce03386",
   "outputs": [
    {
     "name": "stdout",
     "output_type": "stream",
     "text": [
      "999和135的最大公约数是27\n"
     ]
    }
   ],
   "execution_count": 16
  }
 ],
 "metadata": {
  "kernelspec": {
   "display_name": "Python 3",
   "language": "python",
   "name": "python3"
  },
  "language_info": {
   "codemirror_mode": {
    "name": "ipython",
    "version": 2
   },
   "file_extension": ".py",
   "mimetype": "text/x-python",
   "name": "python",
   "nbconvert_exporter": "python",
   "pygments_lexer": "ipython2",
   "version": "2.7.6"
  }
 },
 "nbformat": 4,
 "nbformat_minor": 5
}
