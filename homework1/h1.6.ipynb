{
 "cells": [
  {
   "cell_type": "code",
   "execution_count": 3,
   "metadata": {},
   "outputs": [
    {
     "name": "stdout",
     "output_type": "stream",
     "text": [
      "利用for输出 [1, 1000, 111, 1.8, 12]\n",
      "**************************************************\n",
      "利用while输出 [1, 1000, 111, 1.8, 12]\n"
     ]
    }
   ],
   "source": [
    "lst=eval(input('请输入一个序列：'))\n",
    "new_lst=list()\n",
    "for i in range(len(lst)-1,-1,-1):\n",
    "    new_lst.append(lst[i])\n",
    "print('利用for输出',new_lst)\n",
    "print('*'*50)\n",
    "new_lst.clear()\n",
    "i=len(lst)-1\n",
    "while i>=0:\n",
    "    new_lst.append(lst[i])\n",
    "    i=i-1\n",
    "print('利用while输出',new_lst)\n"
   ]
  }
 ],
 "metadata": {
  "kernelspec": {
   "display_name": "Python 3",
   "language": "python",
   "name": "python3"
  },
  "language_info": {
   "codemirror_mode": {
    "name": "ipython",
    "version": 3
   },
   "file_extension": ".py",
   "mimetype": "text/x-python",
   "name": "python",
   "nbconvert_exporter": "python",
   "pygments_lexer": "ipython3",
   "version": "3.12.0"
  }
 },
 "nbformat": 4,
 "nbformat_minor": 2
}
