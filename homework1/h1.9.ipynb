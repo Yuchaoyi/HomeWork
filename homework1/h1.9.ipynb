{
 "cells": [
  {
   "cell_type": "code",
   "execution_count": 2,
   "metadata": {},
   "outputs": [
    {
     "name": "stdout",
     "output_type": "stream",
     "text": [
      "27的三次方根接近于2.9999999999999996\n"
     ]
    }
   ],
   "source": [
    "number=eval(input('请输入一个要求三次方根的数字：'))\n",
    "def newton_cubic_root(number):\n",
    "    x=number\n",
    "    while True:\n",
    "        next_x=(2*x**3+number)/(3*x**2)\n",
    "        if abs(next_x-x)<1e-6:\n",
    "            return next_x\n",
    "        x=next_x\n",
    "root=newton_cubic_root(number)\n",
    "print(f'{number}的三次方根接近于{root}')"
   ]
  }
 ],
 "metadata": {
  "kernelspec": {
   "display_name": "Python 3",
   "language": "python",
   "name": "python3"
  },
  "language_info": {
   "codemirror_mode": {
    "name": "ipython",
    "version": 3
   },
   "file_extension": ".py",
   "mimetype": "text/x-python",
   "name": "python",
   "nbconvert_exporter": "python",
   "pygments_lexer": "ipython3",
   "version": "3.12.0"
  }
 },
 "nbformat": 4,
 "nbformat_minor": 2
}
