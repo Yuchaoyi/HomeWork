{
 "cells": [
  {
   "cell_type": "code",
   "execution_count": 5,
   "metadata": {},
   "outputs": [
    {
     "name": "stdout",
     "output_type": "stream",
     "text": [
      "S包含由两个或两个以上连续出现的相同字符组成的字符串\n"
     ]
    }
   ],
   "source": [
    "s=input('请输入一个字符串：')\n",
    "for i in range(len(s)):\n",
    "    if i==len(s)-1:\n",
    "        break;\n",
    "    if s[i]==s[i+1]:\n",
    "        print('S包含由两个或两个以上连续出现的相同字符组成的字符串')\n",
    "        break\n",
    "if i==len(s)-1:\n",
    "    print('S不包含由两个或两个以上连续出现的相同字符组成的字符串')"
   ]
  }
 ],
 "metadata": {
  "kernelspec": {
   "display_name": "Python 3",
   "language": "python",
   "name": "python3"
  },
  "language_info": {
   "codemirror_mode": {
    "name": "ipython",
    "version": 3
   },
   "file_extension": ".py",
   "mimetype": "text/x-python",
   "name": "python",
   "nbconvert_exporter": "python",
   "pygments_lexer": "ipython3",
   "version": "3.12.0"
  }
 },
 "nbformat": 4,
 "nbformat_minor": 2
}
