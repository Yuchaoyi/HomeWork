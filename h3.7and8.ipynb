{
 "cells": [
  {
   "cell_type": "code",
   "id": "initial_id",
   "metadata": {
    "collapsed": true,
    "ExecuteTime": {
     "end_time": "2024-10-15T13:46:52.195837Z",
     "start_time": "2024-10-15T13:46:51.755904Z"
    }
   },
   "source": [
    "import pandas as pd\n",
    "from certifi import contents\n",
    "\n",
    "# 读取CSV文件 # 文件路径\n",
    "df = pd.read_csv('stuGrade.csv')\n",
    "\n",
    "# 打印文件内容以确认读取正确\n",
    "print(\"文件内容：\")\n",
    "print(df)"
   ],
   "outputs": [
    {
     "name": "stdout",
     "output_type": "stream",
     "text": [
      "文件内容：\n",
      "   stuID  chinese  math  english\n",
      "0  10381       74    87       82\n",
      "1  10382       92    88       90\n",
      "2  10383       87    82       81\n",
      "3  10384       98    97       96\n",
      "4  10385       62    51       60\n"
     ]
    }
   ],
   "execution_count": 1
  },
  {
   "metadata": {
    "ExecuteTime": {
     "end_time": "2024-10-15T13:46:52.305023Z",
     "start_time": "2024-10-15T13:46:52.296131Z"
    }
   },
   "cell_type": "code",
   "source": [
    "average_score=df.mean()\n",
    "average_score=average_score.round(2)\n",
    "print('各科平均成绩为：')\n",
    "print(f'语文：{average_score['chinese']}')\n",
    "print(f'数学：{average_score['math']}')\n",
    "print(f'英语：{average_score['english']}')"
   ],
   "id": "a7c8f6f9ae6ce594",
   "outputs": [
    {
     "name": "stdout",
     "output_type": "stream",
     "text": [
      "各科平均成绩为：\n",
      "语文：82.6\n",
      "数学：81.0\n",
      "英语：81.8\n"
     ]
    }
   ],
   "execution_count": 2
  },
  {
   "metadata": {
    "ExecuteTime": {
     "end_time": "2024-10-15T13:46:52.502675Z",
     "start_time": "2024-10-15T13:46:52.496292Z"
    }
   },
   "cell_type": "code",
   "source": [
    "content=['各科平均成绩为：\\n',f'语文：{average_score['chinese']}\\n',f'数学：{average_score['math']}\\n',f'英语：{average_score['english']}\\n']\n",
    "with open('my.txt','w',encoding='utf-8') as file:\n",
    "    file.writelines(content)\n",
    "    print('已成功写入my.txt文件中')\n",
    "with open('my.txt','a',encoding='utf-8') as file:\n",
    "    additional_content='\\n\\n\\n\\n\\n\\n\\n\\n\\n\\n\\n\\n\\n\\n\\n\\n\\n\\n\\n\\n\\n\\n\\n\\n\\n余超毅计算得出.ycy'\n",
    "    file.writelines(additional_content)"
   ],
   "id": "a1a67ddf6a057640",
   "outputs": [
    {
     "name": "stdout",
     "output_type": "stream",
     "text": [
      "已成功写入my.txt文件中\n"
     ]
    }
   ],
   "execution_count": 3
  }
 ],
 "metadata": {
  "kernelspec": {
   "display_name": "Python 3",
   "language": "python",
   "name": "python3"
  },
  "language_info": {
   "codemirror_mode": {
    "name": "ipython",
    "version": 2
   },
   "file_extension": ".py",
   "mimetype": "text/x-python",
   "name": "python",
   "nbconvert_exporter": "python",
   "pygments_lexer": "ipython2",
   "version": "2.7.6"
  }
 },
 "nbformat": 4,
 "nbformat_minor": 5
}
