{
 "cells": [
  {
   "cell_type": "code",
   "execution_count": 5,
   "metadata": {},
   "outputs": [
    {
     "name": "stdout",
     "output_type": "stream",
     "text": [
      "三个数从小到大为： 3.4 , 11.8 , 44\n"
     ]
    }
   ],
   "source": [
    "x=eval(input('请输入x：'))\n",
    "y=eval(input('请输入y：'))\n",
    "z=eval(input('请输入z：'))  \n",
    "if x>y:\n",
    "    x,y=y,x\n",
    "if y>z:\n",
    "    y,z=z,y\n",
    "if x>y:\n",
    "    x,y=y,x\n",
    "print('三个数从小到大为：',x,',',y,',',z)           "
   ]
  },
  {
   "cell_type": "markdown",
   "metadata": {},
   "source": [
    "依次输入x,y,z"
   ]
  }
 ],
 "metadata": {
  "kernelspec": {
   "display_name": "Python 3",
   "language": "python",
   "name": "python3"
  },
  "language_info": {
   "codemirror_mode": {
    "name": "ipython",
    "version": 3
   },
   "file_extension": ".py",
   "mimetype": "text/x-python",
   "name": "python",
   "nbconvert_exporter": "python",
   "pygments_lexer": "ipython3",
   "version": "3.12.0"
  }
 },
 "nbformat": 4,
 "nbformat_minor": 2
}
