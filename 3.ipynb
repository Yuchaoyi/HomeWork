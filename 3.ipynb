{
 "cells": [
  {
   "cell_type": "code",
   "execution_count": 8,
   "metadata": {},
   "outputs": [
    {
     "name": "stdout",
     "output_type": "stream",
     "text": [
      "四个数从大到小为：\n",
      "('z', 1111) ('w', 89) ('x', 23) ('y', 10.9) "
     ]
    }
   ],
   "source": [
    "w=eval(input('请输入w：'))\n",
    "x=eval(input('请输入x：'))\n",
    "y=eval(input('请输入y：'))\n",
    "z=eval(input('请输入z：'))\n",
    "d={'w':w,'x':x,'y':y,'z':z}\n",
    "paixu=sorted(d.items(),key=lambda x:x[1],reverse=True)\n",
    "print('四个数从大到小为：')\n",
    "for item in paixu:\n",
    "    print(item,end=' ')\n",
    "\n"
   ]
  }
 ],
 "metadata": {
  "kernelspec": {
   "display_name": "Python 3",
   "language": "python",
   "name": "python3"
  },
  "language_info": {
   "codemirror_mode": {
    "name": "ipython",
    "version": 3
   },
   "file_extension": ".py",
   "mimetype": "text/x-python",
   "name": "python",
   "nbconvert_exporter": "python",
   "pygments_lexer": "ipython3",
   "version": "3.12.0"
  }
 },
 "nbformat": 4,
 "nbformat_minor": 2
}
