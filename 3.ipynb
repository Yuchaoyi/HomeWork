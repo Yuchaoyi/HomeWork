{
 "cells": [
  {
   "cell_type": "code",
   "id": "initial_id",
   "metadata": {
    "collapsed": true,
    "ExecuteTime": {
     "end_time": "2024-10-08T05:54:13.815795Z",
     "start_time": "2024-10-08T05:53:16.485808Z"
    }
   },
   "source": [
    "x=eval(input('请输入一个十进制浮点数，要带小数点：'))\n",
    "zshu=int(x)\n",
    "xshu=x-zshu\n",
    "s1=''\n",
    "s2=''"
   ],
   "outputs": [],
   "execution_count": 14
  },
  {
   "metadata": {
    "ExecuteTime": {
     "end_time": "2024-10-08T05:54:13.855849Z",
     "start_time": "2024-10-08T05:54:13.837530Z"
    }
   },
   "cell_type": "code",
   "source": [
    "while zshu>0:\n",
    "    if zshu%2==1:\n",
    "        zshu=zshu//2\n",
    "        s1=s1+'1'\n",
    "    elif zshu%2==0:\n",
    "        zshu=zshu//2\n",
    "        s1=s1+'0'\n",
    "if s1=='':\n",
    "    s1='0'\n",
    "while xshu>0:\n",
    "    if (xshu*2)//1==1:\n",
    "        xshu=(xshu*2)%1\n",
    "        s2=s2+'1'\n",
    "    elif (xshu*2)//1==0:\n",
    "        xshu=(xshu*2)%1\n",
    "        s2=s2+'0'\n",
    "if s2=='':\n",
    "    s2='0'\n",
    "print('二进制表示为：',s1[::-1]+'.'+s2)"
   ],
   "id": "d69ffbd7d0f041a2",
   "outputs": [
    {
     "name": "stdout",
     "output_type": "stream",
     "text": [
      "二进制表示为： 1100.10101\n"
     ]
    }
   ],
   "execution_count": 15
  }
 ],
 "metadata": {
  "kernelspec": {
   "display_name": "Python 3",
   "language": "python",
   "name": "python3"
  },
  "language_info": {
   "codemirror_mode": {
    "name": "ipython",
    "version": 2
   },
   "file_extension": ".py",
   "mimetype": "text/x-python",
   "name": "python",
   "nbconvert_exporter": "python",
   "pygments_lexer": "ipython2",
   "version": "2.7.6"
  }
 },
 "nbformat": 4,
 "nbformat_minor": 5
}
